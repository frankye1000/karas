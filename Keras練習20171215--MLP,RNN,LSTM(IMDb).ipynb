{
 "cells": [
  {
   "cell_type": "code",
   "execution_count": 87,
   "metadata": {
    "collapsed": true
   },
   "outputs": [],
   "source": [
    "import urllib.request\n",
    "import os\n",
    "import tarfile"
   ]
  },
  {
   "cell_type": "code",
   "execution_count": 88,
   "metadata": {},
   "outputs": [],
   "source": [
    "url = \"http://ai.stanford.edu/~amaas/data/sentiment/aclImdb_v1.tar.gz\"\n",
    "filepath = \"data/aclImdb_v1.tar.gz\"\n",
    "if not os.path.isfile(filepath):\n",
    "    result = urllib.request.urlretrieve(url,filepath)\n",
    "    print(\"download:\",result)"
   ]
  },
  {
   "cell_type": "code",
   "execution_count": 89,
   "metadata": {
    "collapsed": true
   },
   "outputs": [],
   "source": [
    "if not os.path.exists(\"data/aclImdb\"):\n",
    "    tfile = tarfile.open(\"data/aclImdb_v1.tar.gz\",\"r:gz\")\n",
    "    result=tfile.extractall(\"data/\")"
   ]
  },
  {
   "cell_type": "code",
   "execution_count": 90,
   "metadata": {},
   "outputs": [],
   "source": [
    "from keras.preprocessing import sequence\n",
    "from keras.preprocessing.text import Tokenizer\n",
    "import re \n",
    "def rm_tags(text):\n",
    "    re_tag = re.compile(r'<[^>]+>')\n",
    "    return re_tag.sub('',text)"
   ]
  },
  {
   "cell_type": "code",
   "execution_count": 91,
   "metadata": {
    "collapsed": true
   },
   "outputs": [],
   "source": [
    "import os\n",
    "def read_files(filetype):\n",
    "    path = \"data/aclImdb/\"\n",
    "    file_list = []\n",
    "    \n",
    "    positive_path = path + filetype + \"/pos/\"\n",
    "    for f in os.listdir(positive_path):\n",
    "        file_list+=[positive_path+f]\n",
    "        \n",
    "    negative_path = path + filetype + \"/neg/\"\n",
    "    for f in os.listdir(negative_path):\n",
    "        file_list+=[negative_path+f]\n",
    "    \n",
    "    print('read',filetype, 'files:', len(file_list))\n",
    "    \n",
    "    all_labels = ([1] * 12500 + [0] * 12500)\n",
    "    \n",
    "    all_texts = []\n",
    "    for fi in file_list:\n",
    "        with open(fi, encoding = \"utf-8\") as file_input:\n",
    "            all_texts += [rm_tags(\" \".join(file_input.readlines()))]\n",
    "    return all_labels,all_texts"
   ]
  },
  {
   "cell_type": "code",
   "execution_count": 92,
   "metadata": {},
   "outputs": [
    {
     "name": "stdout",
     "output_type": "stream",
     "text": [
      "read train files: 25000\n"
     ]
    }
   ],
   "source": [
    "y_train,train_text=read_files(\"train\")"
   ]
  },
  {
   "cell_type": "code",
   "execution_count": 93,
   "metadata": {},
   "outputs": [
    {
     "name": "stdout",
     "output_type": "stream",
     "text": [
      "read test files: 25000\n"
     ]
    }
   ],
   "source": [
    "y_test,test_text=read_files(\"test\")"
   ]
  },
  {
   "cell_type": "code",
   "execution_count": 94,
   "metadata": {},
   "outputs": [
    {
     "data": {
      "text/plain": [
       "'Bromwell High is a cartoon comedy. It ran at the same time as some other programs about school life, such as \"Teachers\". My 35 years in the teaching profession lead me to believe that Bromwell High\\'s satire is much closer to reality than is \"Teachers\". The scramble to survive financially, the insightful students who can see right through their pathetic teachers\\' pomp, the pettiness of the whole situation, all remind me of the schools I knew and their students. When I saw the episode in which a student repeatedly tried to burn down the school, I immediately recalled ......... at .......... High. A classic line: INSPECTOR: I\\'m here to sack one of your teachers. STUDENT: Welcome to Bromwell High. I expect that many adults of my age think that Bromwell High is far fetched. What a pity that it isn\\'t!'"
      ]
     },
     "execution_count": 94,
     "metadata": {},
     "output_type": "execute_result"
    }
   ],
   "source": [
    "train_text[0]"
   ]
  },
  {
   "cell_type": "code",
   "execution_count": 95,
   "metadata": {},
   "outputs": [
    {
     "data": {
      "text/plain": [
       "1"
      ]
     },
     "execution_count": 95,
     "metadata": {},
     "output_type": "execute_result"
    }
   ],
   "source": [
    "y_train[0]"
   ]
  },
  {
   "cell_type": "code",
   "execution_count": 96,
   "metadata": {
    "scrolled": true
   },
   "outputs": [
    {
     "data": {
      "text/plain": [
       "\"Airport '77 starts as a brand new luxury 747 plane is loaded up with valuable paintings & such belonging to rich businessman Philip Stevens (James Stewart) who is flying them & a bunch of VIP's to his estate in preparation of it being opened to the public as a museum, also on board is Stevens daughter Julie (Kathleen Quinlan) & her son. The luxury jetliner takes off as planned but mid-air the plane is hi-jacked by the co-pilot Chambers (Robert Foxworth) & his two accomplice's Banker (Monte Markham) & Wilson (Michael Pataki) who knock the passengers & crew out with sleeping gas, they plan to steal the valuable cargo & land on a disused plane strip on an isolated island but while making his descent Chambers almost hits an oil rig in the Ocean & loses control of the plane sending it crashing into the sea where it sinks to the bottom right bang in the middle of the Bermuda Triangle. With air in short supply, water leaking in & having flown over 200 miles off course the problems mount for the survivor's as they await help with time fast running out...Also known under the slightly different tile Airport 1977 this second sequel to the smash-hit disaster thriller Airport (1970) was directed by Jerry Jameson & while once again like it's predecessors I can't say Airport '77 is any sort of forgotten classic it is entertaining although not necessarily for the right reasons. Out of the three Airport films I have seen so far I actually liked this one the best, just. It has my favourite plot of the three with a nice mid-air hi-jacking & then the crashing (didn't he see the oil rig?) & sinking of the 747 (maybe the makers were trying to cross the original Airport with another popular disaster flick of the period The Poseidon Adventure (1972)) & submerged is where it stays until the end with a stark dilemma facing those trapped inside, either suffocate when the air runs out or drown as the 747 floods or if any of the doors are opened & it's a decent idea that could have made for a great little disaster flick but bad unsympathetic character's, dull dialogue, lethargic set-pieces & a real lack of danger or suspense or tension means this is a missed opportunity. While the rather sluggish plot keeps one entertained for 108 odd minutes not that much happens after the plane sinks & there's not as much urgency as I thought there should have been. Even when the Navy become involved things don't pick up that much with a few shots of huge ships & helicopters flying about but there's just something lacking here. George Kennedy as the jinxed airline worker Joe Patroni is back but only gets a couple of scenes & barely even says anything preferring to just look worried in the background.The home video & theatrical version of Airport '77 run 108 minutes while the US TV versions add an extra hour of footage including a new opening credits sequence, many more scenes with George Kennedy as Patroni, flashbacks to flesh out character's, longer rescue scenes & the discovery or another couple of dead bodies including the navigator. While I would like to see this extra footage I am not sure I could sit through a near three hour cut of Airport '77. As expected the film has dated badly with horrible fashions & interior design choices, I will say no more other than the toy plane model effects aren't great either. Along with the other two Airport sequels this takes pride of place in the Razzie Award's Hall of Shame although I can think of lots of worse films than this so I reckon that's a little harsh. The action scenes are a little dull unfortunately, the pace is slow & not much excitement or tension is generated which is a shame as I reckon this could have been a pretty good film if made properly.The production values are alright if nothing spectacular. The acting isn't great, two time Oscar winner Jack Lemmon has said since it was a mistake to star in this, one time Oscar winner James Stewart looks old & frail, also one time Oscar winner Lee Grant looks drunk while Sir Christopher Lee is given little to do & there are plenty of other familiar faces to look out for too.Airport '77 is the most disaster orientated of the three Airport films so far & I liked the ideas behind it even if they were a bit silly, the production & bland direction doesn't help though & a film about a sunken plane just shouldn't be this boring or lethargic. Followed by The Concorde ... Airport '79 (1979).\""
      ]
     },
     "execution_count": 96,
     "metadata": {},
     "output_type": "execute_result"
    }
   ],
   "source": [
    "train_text[12501]"
   ]
  },
  {
   "cell_type": "code",
   "execution_count": 97,
   "metadata": {},
   "outputs": [
    {
     "data": {
      "text/plain": [
       "0"
      ]
     },
     "execution_count": 97,
     "metadata": {},
     "output_type": "execute_result"
    }
   ],
   "source": [
    "y_train[12501]"
   ]
  },
  {
   "cell_type": "code",
   "execution_count": 98,
   "metadata": {
    "collapsed": true
   },
   "outputs": [],
   "source": [
    "token = Tokenizer(num_words=2000)\n",
    "token.fit_on_texts(train_text)"
   ]
  },
  {
   "cell_type": "code",
   "execution_count": 99,
   "metadata": {},
   "outputs": [
    {
     "data": {
      "text/plain": [
       "25000"
      ]
     },
     "execution_count": 99,
     "metadata": {},
     "output_type": "execute_result"
    }
   ],
   "source": [
    "token.document_count"
   ]
  },
  {
   "cell_type": "code",
   "execution_count": 100,
   "metadata": {},
   "outputs": [
    {
     "data": {
      "text/plain": [
       "{'the': 1,\n",
       " 'and': 2,\n",
       " 'a': 3,\n",
       " 'of': 4,\n",
       " 'to': 5,\n",
       " 'is': 6,\n",
       " 'in': 7,\n",
       " 'it': 8,\n",
       " 'i': 9,\n",
       " 'this': 10,\n",
       " 'that': 11,\n",
       " 'was': 12,\n",
       " 'as': 13,\n",
       " 'for': 14,\n",
       " 'with': 15,\n",
       " 'movie': 16,\n",
       " 'but': 17,\n",
       " 'film': 18,\n",
       " 'on': 19,\n",
       " 'not': 20,\n",
       " 'you': 21,\n",
       " 'are': 22,\n",
       " 'his': 23,\n",
       " 'have': 24,\n",
       " 'be': 25,\n",
       " 'he': 26,\n",
       " 'one': 27,\n",
       " 'all': 28,\n",
       " 'at': 29,\n",
       " 'by': 30,\n",
       " 'an': 31,\n",
       " 'they': 32,\n",
       " 'who': 33,\n",
       " 'so': 34,\n",
       " 'from': 35,\n",
       " 'like': 36,\n",
       " 'her': 37,\n",
       " 'or': 38,\n",
       " 'just': 39,\n",
       " 'about': 40,\n",
       " \"it's\": 41,\n",
       " 'out': 42,\n",
       " 'has': 43,\n",
       " 'if': 44,\n",
       " 'some': 45,\n",
       " 'there': 46,\n",
       " 'what': 47,\n",
       " 'good': 48,\n",
       " 'more': 49,\n",
       " 'when': 50,\n",
       " 'very': 51,\n",
       " 'up': 52,\n",
       " 'no': 53,\n",
       " 'time': 54,\n",
       " 'she': 55,\n",
       " 'even': 56,\n",
       " 'my': 57,\n",
       " 'would': 58,\n",
       " 'which': 59,\n",
       " 'only': 60,\n",
       " 'story': 61,\n",
       " 'really': 62,\n",
       " 'see': 63,\n",
       " 'their': 64,\n",
       " 'had': 65,\n",
       " 'can': 66,\n",
       " 'were': 67,\n",
       " 'me': 68,\n",
       " 'well': 69,\n",
       " 'than': 70,\n",
       " 'we': 71,\n",
       " 'much': 72,\n",
       " 'been': 73,\n",
       " 'get': 74,\n",
       " 'bad': 75,\n",
       " 'will': 76,\n",
       " 'also': 77,\n",
       " 'do': 78,\n",
       " 'into': 79,\n",
       " 'people': 80,\n",
       " 'other': 81,\n",
       " 'first': 82,\n",
       " 'because': 83,\n",
       " 'great': 84,\n",
       " 'how': 85,\n",
       " 'him': 86,\n",
       " 'most': 87,\n",
       " \"don't\": 88,\n",
       " 'made': 89,\n",
       " 'its': 90,\n",
       " 'then': 91,\n",
       " 'way': 92,\n",
       " 'make': 93,\n",
       " 'them': 94,\n",
       " 'too': 95,\n",
       " 'could': 96,\n",
       " 'any': 97,\n",
       " 'movies': 98,\n",
       " 'after': 99,\n",
       " 'think': 100,\n",
       " 'characters': 101,\n",
       " 'watch': 102,\n",
       " 'two': 103,\n",
       " 'films': 104,\n",
       " 'character': 105,\n",
       " 'seen': 106,\n",
       " 'many': 107,\n",
       " 'being': 108,\n",
       " 'life': 109,\n",
       " 'plot': 110,\n",
       " 'never': 111,\n",
       " 'acting': 112,\n",
       " 'little': 113,\n",
       " 'best': 114,\n",
       " 'love': 115,\n",
       " 'over': 116,\n",
       " 'where': 117,\n",
       " 'did': 118,\n",
       " 'show': 119,\n",
       " 'know': 120,\n",
       " 'off': 121,\n",
       " 'ever': 122,\n",
       " 'does': 123,\n",
       " 'better': 124,\n",
       " 'your': 125,\n",
       " 'end': 126,\n",
       " 'still': 127,\n",
       " 'man': 128,\n",
       " 'here': 129,\n",
       " 'these': 130,\n",
       " 'say': 131,\n",
       " 'scene': 132,\n",
       " 'while': 133,\n",
       " 'why': 134,\n",
       " 'scenes': 135,\n",
       " 'go': 136,\n",
       " 'such': 137,\n",
       " 'something': 138,\n",
       " 'through': 139,\n",
       " 'should': 140,\n",
       " 'back': 141,\n",
       " \"i'm\": 142,\n",
       " 'real': 143,\n",
       " 'those': 144,\n",
       " 'watching': 145,\n",
       " 'now': 146,\n",
       " 'though': 147,\n",
       " \"doesn't\": 148,\n",
       " 'years': 149,\n",
       " 'old': 150,\n",
       " 'thing': 151,\n",
       " 'actors': 152,\n",
       " 'work': 153,\n",
       " 'before': 154,\n",
       " 'another': 155,\n",
       " \"didn't\": 156,\n",
       " 'new': 157,\n",
       " 'funny': 158,\n",
       " 'nothing': 159,\n",
       " '10': 160,\n",
       " 'actually': 161,\n",
       " 'makes': 162,\n",
       " 'director': 163,\n",
       " 'look': 164,\n",
       " 'find': 165,\n",
       " 'going': 166,\n",
       " 'few': 167,\n",
       " 'same': 168,\n",
       " 'part': 169,\n",
       " 'again': 170,\n",
       " 'every': 171,\n",
       " 'lot': 172,\n",
       " 'cast': 173,\n",
       " 'us': 174,\n",
       " 'quite': 175,\n",
       " 'down': 176,\n",
       " 'want': 177,\n",
       " 'world': 178,\n",
       " 'things': 179,\n",
       " 'pretty': 180,\n",
       " 'young': 181,\n",
       " 'seems': 182,\n",
       " 'around': 183,\n",
       " 'got': 184,\n",
       " 'horror': 185,\n",
       " 'however': 186,\n",
       " \"can't\": 187,\n",
       " 'fact': 188,\n",
       " 'take': 189,\n",
       " 'big': 190,\n",
       " 'enough': 191,\n",
       " 'long': 192,\n",
       " 'thought': 193,\n",
       " \"that's\": 194,\n",
       " 'both': 195,\n",
       " 'between': 196,\n",
       " 'series': 197,\n",
       " 'give': 198,\n",
       " 'may': 199,\n",
       " 'original': 200,\n",
       " 'own': 201,\n",
       " 'action': 202,\n",
       " \"i've\": 203,\n",
       " 'right': 204,\n",
       " 'without': 205,\n",
       " 'always': 206,\n",
       " 'times': 207,\n",
       " 'comedy': 208,\n",
       " 'point': 209,\n",
       " 'gets': 210,\n",
       " 'must': 211,\n",
       " 'come': 212,\n",
       " 'role': 213,\n",
       " \"isn't\": 214,\n",
       " 'saw': 215,\n",
       " 'almost': 216,\n",
       " 'interesting': 217,\n",
       " 'least': 218,\n",
       " 'family': 219,\n",
       " 'done': 220,\n",
       " \"there's\": 221,\n",
       " 'whole': 222,\n",
       " 'bit': 223,\n",
       " 'music': 224,\n",
       " 'script': 225,\n",
       " 'far': 226,\n",
       " 'making': 227,\n",
       " 'anything': 228,\n",
       " 'guy': 229,\n",
       " 'feel': 230,\n",
       " 'minutes': 231,\n",
       " 'last': 232,\n",
       " 'since': 233,\n",
       " 'might': 234,\n",
       " 'performance': 235,\n",
       " \"he's\": 236,\n",
       " '2': 237,\n",
       " 'probably': 238,\n",
       " 'kind': 239,\n",
       " 'am': 240,\n",
       " 'away': 241,\n",
       " 'yet': 242,\n",
       " 'rather': 243,\n",
       " 'tv': 244,\n",
       " 'worst': 245,\n",
       " 'girl': 246,\n",
       " 'day': 247,\n",
       " 'sure': 248,\n",
       " 'fun': 249,\n",
       " 'hard': 250,\n",
       " 'woman': 251,\n",
       " 'played': 252,\n",
       " 'each': 253,\n",
       " 'found': 254,\n",
       " 'anyone': 255,\n",
       " 'having': 256,\n",
       " 'especially': 257,\n",
       " 'although': 258,\n",
       " 'our': 259,\n",
       " 'believe': 260,\n",
       " 'course': 261,\n",
       " 'comes': 262,\n",
       " 'looking': 263,\n",
       " 'screen': 264,\n",
       " 'trying': 265,\n",
       " 'set': 266,\n",
       " 'goes': 267,\n",
       " 'looks': 268,\n",
       " 'place': 269,\n",
       " 'book': 270,\n",
       " 'different': 271,\n",
       " 'put': 272,\n",
       " 'ending': 273,\n",
       " 'money': 274,\n",
       " 'maybe': 275,\n",
       " 'once': 276,\n",
       " 'sense': 277,\n",
       " 'true': 278,\n",
       " 'reason': 279,\n",
       " 'actor': 280,\n",
       " \"wasn't\": 281,\n",
       " 'everything': 282,\n",
       " 'shows': 283,\n",
       " 'dvd': 284,\n",
       " 'three': 285,\n",
       " 'worth': 286,\n",
       " 'year': 287,\n",
       " 'job': 288,\n",
       " 'main': 289,\n",
       " 'someone': 290,\n",
       " 'together': 291,\n",
       " 'watched': 292,\n",
       " 'play': 293,\n",
       " 'plays': 294,\n",
       " 'american': 295,\n",
       " 'said': 296,\n",
       " 'effects': 297,\n",
       " 'later': 298,\n",
       " 'takes': 299,\n",
       " 'instead': 300,\n",
       " '1': 301,\n",
       " 'seem': 302,\n",
       " 'beautiful': 303,\n",
       " 'john': 304,\n",
       " 'himself': 305,\n",
       " 'version': 306,\n",
       " 'audience': 307,\n",
       " 'high': 308,\n",
       " 'house': 309,\n",
       " 'night': 310,\n",
       " 'during': 311,\n",
       " 'everyone': 312,\n",
       " 'left': 313,\n",
       " 'special': 314,\n",
       " 'seeing': 315,\n",
       " 'half': 316,\n",
       " 'excellent': 317,\n",
       " 'wife': 318,\n",
       " 'star': 319,\n",
       " 'shot': 320,\n",
       " 'war': 321,\n",
       " 'idea': 322,\n",
       " 'nice': 323,\n",
       " 'less': 324,\n",
       " 'black': 325,\n",
       " 'mind': 326,\n",
       " 'simply': 327,\n",
       " 'read': 328,\n",
       " 'second': 329,\n",
       " \"you're\": 330,\n",
       " 'else': 331,\n",
       " 'father': 332,\n",
       " 'fan': 333,\n",
       " 'poor': 334,\n",
       " 'help': 335,\n",
       " 'completely': 336,\n",
       " 'death': 337,\n",
       " 'used': 338,\n",
       " '3': 339,\n",
       " 'home': 340,\n",
       " 'either': 341,\n",
       " 'short': 342,\n",
       " 'line': 343,\n",
       " 'given': 344,\n",
       " 'men': 345,\n",
       " 'top': 346,\n",
       " 'dead': 347,\n",
       " 'budget': 348,\n",
       " 'try': 349,\n",
       " 'performances': 350,\n",
       " 'wrong': 351,\n",
       " 'classic': 352,\n",
       " 'enjoy': 353,\n",
       " 'boring': 354,\n",
       " 'need': 355,\n",
       " 'rest': 356,\n",
       " 'use': 357,\n",
       " 'kids': 358,\n",
       " 'hollywood': 359,\n",
       " 'low': 360,\n",
       " 'production': 361,\n",
       " 'until': 362,\n",
       " 'along': 363,\n",
       " 'full': 364,\n",
       " 'friends': 365,\n",
       " 'camera': 366,\n",
       " 'truly': 367,\n",
       " 'women': 368,\n",
       " 'awful': 369,\n",
       " 'video': 370,\n",
       " 'next': 371,\n",
       " 'tell': 372,\n",
       " 'remember': 373,\n",
       " 'stupid': 374,\n",
       " 'couple': 375,\n",
       " 'start': 376,\n",
       " 'perhaps': 377,\n",
       " 'mean': 378,\n",
       " 'stars': 379,\n",
       " 'sex': 380,\n",
       " 'came': 381,\n",
       " 'recommend': 382,\n",
       " 'let': 383,\n",
       " 'moments': 384,\n",
       " 'wonderful': 385,\n",
       " 'episode': 386,\n",
       " 'understand': 387,\n",
       " 'small': 388,\n",
       " 'face': 389,\n",
       " 'terrible': 390,\n",
       " 'school': 391,\n",
       " 'playing': 392,\n",
       " 'getting': 393,\n",
       " 'written': 394,\n",
       " 'often': 395,\n",
       " 'doing': 396,\n",
       " 'keep': 397,\n",
       " 'early': 398,\n",
       " 'name': 399,\n",
       " 'perfect': 400,\n",
       " 'style': 401,\n",
       " 'human': 402,\n",
       " 'definitely': 403,\n",
       " 'others': 404,\n",
       " 'gives': 405,\n",
       " 'itself': 406,\n",
       " 'lines': 407,\n",
       " 'live': 408,\n",
       " 'become': 409,\n",
       " 'person': 410,\n",
       " 'dialogue': 411,\n",
       " 'lost': 412,\n",
       " 'finally': 413,\n",
       " 'piece': 414,\n",
       " 'head': 415,\n",
       " 'felt': 416,\n",
       " 'case': 417,\n",
       " 'yes': 418,\n",
       " 'liked': 419,\n",
       " 'supposed': 420,\n",
       " 'title': 421,\n",
       " \"couldn't\": 422,\n",
       " 'absolutely': 423,\n",
       " 'white': 424,\n",
       " 'against': 425,\n",
       " 'boy': 426,\n",
       " 'picture': 427,\n",
       " 'sort': 428,\n",
       " 'worse': 429,\n",
       " 'certainly': 430,\n",
       " 'went': 431,\n",
       " 'entire': 432,\n",
       " 'waste': 433,\n",
       " 'cinema': 434,\n",
       " 'problem': 435,\n",
       " 'hope': 436,\n",
       " \"she's\": 437,\n",
       " 'entertaining': 438,\n",
       " 'mr': 439,\n",
       " 'called': 440,\n",
       " 'evil': 441,\n",
       " 'overall': 442,\n",
       " 'loved': 443,\n",
       " 'based': 444,\n",
       " 'oh': 445,\n",
       " 'several': 446,\n",
       " 'fans': 447,\n",
       " 'mother': 448,\n",
       " 'drama': 449,\n",
       " 'beginning': 450,\n",
       " 'killer': 451,\n",
       " 'lives': 452,\n",
       " 'care': 453,\n",
       " 'already': 454,\n",
       " 'becomes': 455,\n",
       " 'example': 456,\n",
       " 'laugh': 457,\n",
       " 'friend': 458,\n",
       " 'direction': 459,\n",
       " 'dark': 460,\n",
       " 'under': 461,\n",
       " 'despite': 462,\n",
       " '5': 463,\n",
       " 'seemed': 464,\n",
       " 'throughout': 465,\n",
       " 'turn': 466,\n",
       " '4': 467,\n",
       " 'unfortunately': 468,\n",
       " 'wanted': 469,\n",
       " \"i'd\": 470,\n",
       " '\\x96': 471,\n",
       " 'children': 472,\n",
       " 'final': 473,\n",
       " 'fine': 474,\n",
       " 'history': 475,\n",
       " 'amazing': 476,\n",
       " 'guess': 477,\n",
       " 'heart': 478,\n",
       " 'sound': 479,\n",
       " 'totally': 480,\n",
       " 'lead': 481,\n",
       " 'humor': 482,\n",
       " 'writing': 483,\n",
       " 'michael': 484,\n",
       " 'quality': 485,\n",
       " \"you'll\": 486,\n",
       " 'close': 487,\n",
       " 'son': 488,\n",
       " 'guys': 489,\n",
       " 'wants': 490,\n",
       " 'behind': 491,\n",
       " 'works': 492,\n",
       " 'tries': 493,\n",
       " 'art': 494,\n",
       " 'side': 495,\n",
       " 'game': 496,\n",
       " 'past': 497,\n",
       " 'able': 498,\n",
       " 'days': 499,\n",
       " 'b': 500,\n",
       " 'turns': 501,\n",
       " \"they're\": 502,\n",
       " 'hand': 503,\n",
       " 'child': 504,\n",
       " 'flick': 505,\n",
       " 'enjoyed': 506,\n",
       " 'act': 507,\n",
       " 'town': 508,\n",
       " 'genre': 509,\n",
       " 'favorite': 510,\n",
       " 'kill': 511,\n",
       " 'soon': 512,\n",
       " 'starts': 513,\n",
       " 'sometimes': 514,\n",
       " 'gave': 515,\n",
       " 'car': 516,\n",
       " 'late': 517,\n",
       " 'run': 518,\n",
       " 'actress': 519,\n",
       " 'etc': 520,\n",
       " 'eyes': 521,\n",
       " 'directed': 522,\n",
       " 'horrible': 523,\n",
       " \"won't\": 524,\n",
       " 'viewer': 525,\n",
       " 'brilliant': 526,\n",
       " 'parts': 527,\n",
       " 'self': 528,\n",
       " 'themselves': 529,\n",
       " 'hour': 530,\n",
       " 'thinking': 531,\n",
       " 'expect': 532,\n",
       " 'stories': 533,\n",
       " 'stuff': 534,\n",
       " 'girls': 535,\n",
       " 'obviously': 536,\n",
       " 'blood': 537,\n",
       " 'decent': 538,\n",
       " 'city': 539,\n",
       " 'voice': 540,\n",
       " 'highly': 541,\n",
       " 'myself': 542,\n",
       " 'feeling': 543,\n",
       " 'fight': 544,\n",
       " 'except': 545,\n",
       " 'matter': 546,\n",
       " 'slow': 547,\n",
       " 'type': 548,\n",
       " 'anyway': 549,\n",
       " 'kid': 550,\n",
       " 'killed': 551,\n",
       " 'roles': 552,\n",
       " 'heard': 553,\n",
       " 'age': 554,\n",
       " 'says': 555,\n",
       " 'god': 556,\n",
       " 'moment': 557,\n",
       " 'took': 558,\n",
       " 'leave': 559,\n",
       " 'writer': 560,\n",
       " 'cannot': 561,\n",
       " 'strong': 562,\n",
       " 'violence': 563,\n",
       " 'police': 564,\n",
       " 'hit': 565,\n",
       " 'stop': 566,\n",
       " 'happens': 567,\n",
       " 'particularly': 568,\n",
       " 'known': 569,\n",
       " 'happened': 570,\n",
       " 'involved': 571,\n",
       " 'extremely': 572,\n",
       " 'obvious': 573,\n",
       " 'daughter': 574,\n",
       " 'told': 575,\n",
       " 'chance': 576,\n",
       " 'living': 577,\n",
       " 'coming': 578,\n",
       " 'lack': 579,\n",
       " 'alone': 580,\n",
       " 'experience': 581,\n",
       " 'including': 582,\n",
       " \"wouldn't\": 583,\n",
       " 'murder': 584,\n",
       " 'attempt': 585,\n",
       " 's': 586,\n",
       " 'james': 587,\n",
       " 'please': 588,\n",
       " 'happen': 589,\n",
       " 'wonder': 590,\n",
       " 'crap': 591,\n",
       " \"film's\": 592,\n",
       " 'ago': 593,\n",
       " 'brother': 594,\n",
       " 'none': 595,\n",
       " 'complete': 596,\n",
       " 'gore': 597,\n",
       " 'interest': 598,\n",
       " 'score': 599,\n",
       " 'group': 600,\n",
       " 'cut': 601,\n",
       " 'simple': 602,\n",
       " 'save': 603,\n",
       " 'looked': 604,\n",
       " 'hell': 605,\n",
       " 'ok': 606,\n",
       " 'number': 607,\n",
       " 'career': 608,\n",
       " 'possible': 609,\n",
       " 'song': 610,\n",
       " 'seriously': 611,\n",
       " 'exactly': 612,\n",
       " 'shown': 613,\n",
       " 'sad': 614,\n",
       " 'annoying': 615,\n",
       " 'running': 616,\n",
       " 'serious': 617,\n",
       " 'musical': 618,\n",
       " 'whose': 619,\n",
       " 'taken': 620,\n",
       " 'yourself': 621,\n",
       " 'released': 622,\n",
       " 'david': 623,\n",
       " 'scary': 624,\n",
       " 'ends': 625,\n",
       " 'cinematography': 626,\n",
       " 'hero': 627,\n",
       " 'usually': 628,\n",
       " 'english': 629,\n",
       " 'hours': 630,\n",
       " 'reality': 631,\n",
       " 'opening': 632,\n",
       " 'jokes': 633,\n",
       " 'across': 634,\n",
       " 'light': 635,\n",
       " \"i'll\": 636,\n",
       " 'today': 637,\n",
       " 'hilarious': 638,\n",
       " 'somewhat': 639,\n",
       " 'usual': 640,\n",
       " 'cool': 641,\n",
       " 'started': 642,\n",
       " 'body': 643,\n",
       " 'relationship': 644,\n",
       " 'ridiculous': 645,\n",
       " 'level': 646,\n",
       " 'view': 647,\n",
       " 'opinion': 648,\n",
       " 'change': 649,\n",
       " 'happy': 650,\n",
       " 'middle': 651,\n",
       " 'taking': 652,\n",
       " 'wish': 653,\n",
       " 'finds': 654,\n",
       " 'husband': 655,\n",
       " 'saying': 656,\n",
       " 'order': 657,\n",
       " 'documentary': 658,\n",
       " 'talking': 659,\n",
       " 'shots': 660,\n",
       " 'ones': 661,\n",
       " 'huge': 662,\n",
       " 'novel': 663,\n",
       " 'mostly': 664,\n",
       " 'robert': 665,\n",
       " 'female': 666,\n",
       " 'power': 667,\n",
       " 'episodes': 668,\n",
       " 'room': 669,\n",
       " 'important': 670,\n",
       " 'talent': 671,\n",
       " 'five': 672,\n",
       " 'rating': 673,\n",
       " 'major': 674,\n",
       " 'turned': 675,\n",
       " 'strange': 676,\n",
       " 'modern': 677,\n",
       " 'word': 678,\n",
       " 'call': 679,\n",
       " 'disappointed': 680,\n",
       " 'apparently': 681,\n",
       " 'single': 682,\n",
       " 'events': 683,\n",
       " 'due': 684,\n",
       " 'four': 685,\n",
       " 'songs': 686,\n",
       " 'attention': 687,\n",
       " 'basically': 688,\n",
       " '7': 689,\n",
       " 'knows': 690,\n",
       " 'clearly': 691,\n",
       " 'supporting': 692,\n",
       " 'knew': 693,\n",
       " 'comic': 694,\n",
       " 'television': 695,\n",
       " 'british': 696,\n",
       " 'non': 697,\n",
       " 'earth': 698,\n",
       " 'fast': 699,\n",
       " 'country': 700,\n",
       " 'future': 701,\n",
       " 'cheap': 702,\n",
       " 'class': 703,\n",
       " 'king': 704,\n",
       " 'silly': 705,\n",
       " 'thriller': 706,\n",
       " 'problems': 707,\n",
       " '8': 708,\n",
       " \"aren't\": 709,\n",
       " 'easily': 710,\n",
       " 'words': 711,\n",
       " 'tells': 712,\n",
       " 'miss': 713,\n",
       " 'jack': 714,\n",
       " 'local': 715,\n",
       " 'sequence': 716,\n",
       " 'bring': 717,\n",
       " 'paul': 718,\n",
       " 'entertainment': 719,\n",
       " 'beyond': 720,\n",
       " 'upon': 721,\n",
       " 'whether': 722,\n",
       " 'predictable': 723,\n",
       " 'moving': 724,\n",
       " 'sets': 725,\n",
       " 'similar': 726,\n",
       " 'straight': 727,\n",
       " 'romantic': 728,\n",
       " 'oscar': 729,\n",
       " 'falls': 730,\n",
       " 'mystery': 731,\n",
       " 'review': 732,\n",
       " 'enjoyable': 733,\n",
       " 'talk': 734,\n",
       " 'needs': 735,\n",
       " 'rock': 736,\n",
       " 'appears': 737,\n",
       " 'giving': 738,\n",
       " 'george': 739,\n",
       " 'eye': 740,\n",
       " 'within': 741,\n",
       " 'richard': 742,\n",
       " 'ten': 743,\n",
       " 'animation': 744,\n",
       " 'message': 745,\n",
       " 'near': 746,\n",
       " 'theater': 747,\n",
       " 'above': 748,\n",
       " 'dull': 749,\n",
       " 'nearly': 750,\n",
       " 'sequel': 751,\n",
       " 'points': 752,\n",
       " 'theme': 753,\n",
       " 'stand': 754,\n",
       " 'mention': 755,\n",
       " 'lady': 756,\n",
       " 'bunch': 757,\n",
       " 'add': 758,\n",
       " 'feels': 759,\n",
       " 'herself': 760,\n",
       " 'release': 761,\n",
       " 'red': 762,\n",
       " 'storyline': 763,\n",
       " 'team': 764,\n",
       " 'ways': 765,\n",
       " 'surprised': 766,\n",
       " 'using': 767,\n",
       " 'named': 768,\n",
       " \"haven't\": 769,\n",
       " 'easy': 770,\n",
       " 'lots': 771,\n",
       " 'fantastic': 772,\n",
       " 'begins': 773,\n",
       " 'actual': 774,\n",
       " 'working': 775,\n",
       " 'effort': 776,\n",
       " 'york': 777,\n",
       " 'french': 778,\n",
       " 'hate': 779,\n",
       " 'tale': 780,\n",
       " 'minute': 781,\n",
       " 'die': 782,\n",
       " 'clear': 783,\n",
       " 'stay': 784,\n",
       " 'feature': 785,\n",
       " 'elements': 786,\n",
       " 'among': 787,\n",
       " '9': 788,\n",
       " 'follow': 789,\n",
       " 'comments': 790,\n",
       " 're': 791,\n",
       " 'avoid': 792,\n",
       " 'sister': 793,\n",
       " 'viewers': 794,\n",
       " 'typical': 795,\n",
       " 'showing': 796,\n",
       " 'editing': 797,\n",
       " 'tried': 798,\n",
       " \"what's\": 799,\n",
       " 'famous': 800,\n",
       " 'sorry': 801,\n",
       " 'fall': 802,\n",
       " 'dialog': 803,\n",
       " \"'\": 804,\n",
       " 'form': 805,\n",
       " 'period': 806,\n",
       " 'season': 807,\n",
       " 'certain': 808,\n",
       " 'soundtrack': 809,\n",
       " 'filmed': 810,\n",
       " 'weak': 811,\n",
       " 'means': 812,\n",
       " 'check': 813,\n",
       " 'buy': 814,\n",
       " 'material': 815,\n",
       " 'somehow': 816,\n",
       " 'realistic': 817,\n",
       " 'figure': 818,\n",
       " 'crime': 819,\n",
       " 'gone': 820,\n",
       " 'doubt': 821,\n",
       " 'peter': 822,\n",
       " 'kept': 823,\n",
       " 'viewing': 824,\n",
       " 'general': 825,\n",
       " 'tom': 826,\n",
       " 't': 827,\n",
       " 'leads': 828,\n",
       " 'greatest': 829,\n",
       " 'space': 830,\n",
       " 'lame': 831,\n",
       " 'dance': 832,\n",
       " 'brought': 833,\n",
       " 'imagine': 834,\n",
       " 'suspense': 835,\n",
       " 'third': 836,\n",
       " 'atmosphere': 837,\n",
       " 'hear': 838,\n",
       " 'particular': 839,\n",
       " 'sequences': 840,\n",
       " 'whatever': 841,\n",
       " 'parents': 842,\n",
       " 'move': 843,\n",
       " 'lee': 844,\n",
       " 'indeed': 845,\n",
       " 'eventually': 846,\n",
       " 'learn': 847,\n",
       " 'de': 848,\n",
       " 'rent': 849,\n",
       " 'note': 850,\n",
       " 'deal': 851,\n",
       " 'reviews': 852,\n",
       " 'average': 853,\n",
       " 'wait': 854,\n",
       " 'forget': 855,\n",
       " 'japanese': 856,\n",
       " 'poorly': 857,\n",
       " 'premise': 858,\n",
       " 'zombie': 859,\n",
       " 'believable': 860,\n",
       " 'stage': 861,\n",
       " 'sexual': 862,\n",
       " 'surprise': 863,\n",
       " 'possibly': 864,\n",
       " 'sit': 865,\n",
       " \"who's\": 866,\n",
       " 'decided': 867,\n",
       " 'expected': 868,\n",
       " 'okay': 869,\n",
       " \"you've\": 870,\n",
       " 'subject': 871,\n",
       " 'nature': 872,\n",
       " 'became': 873,\n",
       " 'free': 874,\n",
       " 'difficult': 875,\n",
       " 'screenplay': 876,\n",
       " 'killing': 877,\n",
       " 'truth': 878,\n",
       " 'romance': 879,\n",
       " 'dr': 880,\n",
       " 'nor': 881,\n",
       " 'reading': 882,\n",
       " 'question': 883,\n",
       " 'needed': 884,\n",
       " 'leaves': 885,\n",
       " 'street': 886,\n",
       " '20': 887,\n",
       " 'meets': 888,\n",
       " 'hot': 889,\n",
       " 'begin': 890,\n",
       " 'unless': 891,\n",
       " 'baby': 892,\n",
       " 'superb': 893,\n",
       " 'imdb': 894,\n",
       " 'credits': 895,\n",
       " 'otherwise': 896,\n",
       " 'write': 897,\n",
       " 'shame': 898,\n",
       " 'situation': 899,\n",
       " 'dramatic': 900,\n",
       " \"let's\": 901,\n",
       " 'memorable': 902,\n",
       " 'directors': 903,\n",
       " 'meet': 904,\n",
       " 'earlier': 905,\n",
       " 'dog': 906,\n",
       " 'male': 907,\n",
       " 'open': 908,\n",
       " 'disney': 909,\n",
       " 'badly': 910,\n",
       " 'weird': 911,\n",
       " 'joe': 912,\n",
       " 'forced': 913,\n",
       " 'acted': 914,\n",
       " 'emotional': 915,\n",
       " 'sci': 916,\n",
       " 'laughs': 917,\n",
       " 'older': 918,\n",
       " 'realize': 919,\n",
       " 'fi': 920,\n",
       " 'dream': 921,\n",
       " 'society': 922,\n",
       " 'writers': 923,\n",
       " 'forward': 924,\n",
       " 'interested': 925,\n",
       " 'footage': 926,\n",
       " 'comment': 927,\n",
       " 'crazy': 928,\n",
       " 'deep': 929,\n",
       " 'plus': 930,\n",
       " 'beauty': 931,\n",
       " 'whom': 932,\n",
       " 'america': 933,\n",
       " 'sounds': 934,\n",
       " 'fantasy': 935,\n",
       " 'directing': 936,\n",
       " 'keeps': 937,\n",
       " 'ask': 938,\n",
       " 'development': 939,\n",
       " 'features': 940,\n",
       " 'quickly': 941,\n",
       " 'air': 942,\n",
       " 'creepy': 943,\n",
       " 'mess': 944,\n",
       " 'towards': 945,\n",
       " 'perfectly': 946,\n",
       " 'mark': 947,\n",
       " 'worked': 948,\n",
       " 'cheesy': 949,\n",
       " 'unique': 950,\n",
       " 'box': 951,\n",
       " 'hands': 952,\n",
       " 'setting': 953,\n",
       " 'plenty': 954,\n",
       " 'result': 955,\n",
       " 'previous': 956,\n",
       " 'brings': 957,\n",
       " 'effect': 958,\n",
       " 'personal': 959,\n",
       " 'e': 960,\n",
       " 'total': 961,\n",
       " 'fire': 962,\n",
       " 'monster': 963,\n",
       " 'incredibly': 964,\n",
       " 'rate': 965,\n",
       " 'leading': 966,\n",
       " 'apart': 967,\n",
       " 'business': 968,\n",
       " 'admit': 969,\n",
       " 'casting': 970,\n",
       " 'powerful': 971,\n",
       " 'appear': 972,\n",
       " 'joke': 973,\n",
       " 'background': 974,\n",
       " 'hardly': 975,\n",
       " 'present': 976,\n",
       " 'meant': 977,\n",
       " 'girlfriend': 978,\n",
       " 'christmas': 979,\n",
       " 'telling': 980,\n",
       " 'battle': 981,\n",
       " 'potential': 982,\n",
       " 'create': 983,\n",
       " 'bill': 984,\n",
       " 'pay': 985,\n",
       " 'break': 986,\n",
       " 'gay': 987,\n",
       " 'dumb': 988,\n",
       " 'return': 989,\n",
       " 'fighting': 990,\n",
       " 'fails': 991,\n",
       " 'masterpiece': 992,\n",
       " 'political': 993,\n",
       " 'various': 994,\n",
       " 'portrayed': 995,\n",
       " 'era': 996,\n",
       " 'co': 997,\n",
       " 'secret': 998,\n",
       " 'cop': 999,\n",
       " 'inside': 1000,\n",
       " ...}"
      ]
     },
     "execution_count": 100,
     "metadata": {},
     "output_type": "execute_result"
    }
   ],
   "source": [
    "token.word_index"
   ]
  },
  {
   "cell_type": "code",
   "execution_count": 101,
   "metadata": {
    "collapsed": true
   },
   "outputs": [],
   "source": [
    "x_train_seq = token.texts_to_sequences(train_text)\n",
    "x_test_seq = token.texts_to_sequences(test_text)"
   ]
  },
  {
   "cell_type": "code",
   "execution_count": 102,
   "metadata": {},
   "outputs": [
    {
     "data": {
      "text/plain": [
       "'Bromwell High is a cartoon comedy. It ran at the same time as some other programs about school life, such as \"Teachers\". My 35 years in the teaching profession lead me to believe that Bromwell High\\'s satire is much closer to reality than is \"Teachers\". The scramble to survive financially, the insightful students who can see right through their pathetic teachers\\' pomp, the pettiness of the whole situation, all remind me of the schools I knew and their students. When I saw the episode in which a student repeatedly tried to burn down the school, I immediately recalled ......... at .......... High. A classic line: INSPECTOR: I\\'m here to sack one of your teachers. STUDENT: Welcome to Bromwell High. I expect that many adults of my age think that Bromwell High is far fetched. What a pity that it isn\\'t!'"
      ]
     },
     "execution_count": 102,
     "metadata": {},
     "output_type": "execute_result"
    }
   ],
   "source": [
    "train_text[0]"
   ]
  },
  {
   "cell_type": "code",
   "execution_count": 103,
   "metadata": {},
   "outputs": [
    {
     "name": "stdout",
     "output_type": "stream",
     "text": [
      "[308, 6, 3, 1068, 208, 8, 29, 1, 168, 54, 13, 45, 81, 40, 391, 109, 137, 13, 57, 149, 7, 1, 481, 68, 5, 260, 11, 6, 72, 5, 631, 70, 6, 1, 5, 1, 1530, 33, 66, 63, 204, 139, 64, 1229, 1, 4, 1, 222, 899, 28, 68, 4, 1, 9, 693, 2, 64, 1530, 50, 9, 215, 1, 386, 7, 59, 3, 1470, 798, 5, 176, 1, 391, 9, 1235, 29, 308, 3, 352, 343, 142, 129, 5, 27, 4, 125, 1470, 5, 308, 9, 532, 11, 107, 1466, 4, 57, 554, 100, 11, 308, 6, 226, 47, 3, 11, 8, 214]\n"
     ]
    }
   ],
   "source": [
    "print(x_train_seq[0])"
   ]
  },
  {
   "cell_type": "code",
   "execution_count": 104,
   "metadata": {
    "collapsed": true
   },
   "outputs": [],
   "source": [
    "x_train = sequence.pad_sequences(x_train_seq, maxlen=100)\n",
    "x_test = sequence.pad_sequences(x_test_seq, maxlen=100)"
   ]
  },
  {
   "cell_type": "code",
   "execution_count": 105,
   "metadata": {},
   "outputs": [
    {
     "name": "stdout",
     "output_type": "stream",
     "text": [
      "before: 106\n"
     ]
    }
   ],
   "source": [
    "print(\"before:\",len(x_train_seq[0]))"
   ]
  },
  {
   "cell_type": "code",
   "execution_count": 106,
   "metadata": {},
   "outputs": [
    {
     "name": "stdout",
     "output_type": "stream",
     "text": [
      "after: 100\n"
     ]
    }
   ],
   "source": [
    "print(\"after:\",len(x_train[0]))"
   ]
  },
  {
   "cell_type": "markdown",
   "metadata": {},
   "source": [
    "# MLP"
   ]
  },
  {
   "cell_type": "code",
   "execution_count": 107,
   "metadata": {},
   "outputs": [
    {
     "name": "stdout",
     "output_type": "stream",
     "text": [
      "read train files: 25000\n",
      "read test files: 25000\n"
     ]
    }
   ],
   "source": [
    "from keras.datasets import imdb\n",
    "from keras.preprocessing import sequence\n",
    "from keras.preprocessing.text import Tokenizer\n",
    "y_train, train_text = read_files(\"train\")\n",
    "y_test, test_text = read_files(\"test\")\n",
    "token = Tokenizer(num_words=4000)\n",
    "token.fit_on_texts(train_text)\n",
    "x_train_seq = token.texts_to_sequences(train_text)\n",
    "x_test_seq = token.texts_to_sequences(test_text)\n",
    "x_train = sequence.pad_sequences(x_train_seq, maxlen = 400)\n",
    "x_test = sequence.pad_sequences(x_test_seq, maxlen = 400)"
   ]
  },
  {
   "cell_type": "code",
   "execution_count": 108,
   "metadata": {},
   "outputs": [
    {
     "name": "stdout",
     "output_type": "stream",
     "text": [
      "_________________________________________________________________\n",
      "Layer (type)                 Output Shape              Param #   \n",
      "=================================================================\n",
      "embedding_6 (Embedding)      (None, 400, 32)           128000    \n",
      "_________________________________________________________________\n",
      "dropout_11 (Dropout)         (None, 400, 32)           0         \n",
      "_________________________________________________________________\n",
      "flatten_4 (Flatten)          (None, 12800)             0         \n",
      "_________________________________________________________________\n",
      "dense_11 (Dense)             (None, 256)               3277056   \n",
      "_________________________________________________________________\n",
      "dropout_12 (Dropout)         (None, 256)               0         \n",
      "_________________________________________________________________\n",
      "dense_12 (Dense)             (None, 1)                 257       \n",
      "=================================================================\n",
      "Total params: 3,405,313\n",
      "Trainable params: 3,405,313\n",
      "Non-trainable params: 0\n",
      "_________________________________________________________________\n",
      "None\n"
     ]
    }
   ],
   "source": [
    "from keras.models import Sequential\n",
    "from keras.layers.core import Dense, Dropout, Activation, Flatten\n",
    "from keras.layers.embeddings import Embedding\n",
    "\n",
    "model = Sequential()\n",
    "\n",
    "model.add(Embedding(output_dim=32,\n",
    "                    input_dim=4000,\n",
    "                    input_length=400))\n",
    "model.add(Dropout(rate = 0.2))\n",
    "\n",
    "model.add(Flatten())\n",
    "\n",
    "model.add(Dense(units=256,\n",
    "                activation=\"relu\"))\n",
    "model.add(Dropout(rate = 0.35))\n",
    "\n",
    "model.add(Dense(units=1,\n",
    "                activation=\"sigmoid\"))\n",
    "print(model.summary())\n"
   ]
  },
  {
   "cell_type": "code",
   "execution_count": 109,
   "metadata": {},
   "outputs": [
    {
     "name": "stdout",
     "output_type": "stream",
     "text": [
      "Train on 20000 samples, validate on 5000 samples\n",
      "Epoch 1/5\n",
      " - 11s - loss: 0.6234 - acc: 0.6492 - val_loss: 0.7269 - val_acc: 0.6082\n",
      "Epoch 2/5\n",
      " - 11s - loss: 0.3380 - acc: 0.8592 - val_loss: 0.4045 - val_acc: 0.8330\n",
      "Epoch 3/5\n",
      " - 10s - loss: 0.1884 - acc: 0.9284 - val_loss: 0.4869 - val_acc: 0.7986\n",
      "Epoch 4/5\n",
      " - 11s - loss: 0.1131 - acc: 0.9613 - val_loss: 0.3914 - val_acc: 0.8530\n",
      "Epoch 5/5\n",
      " - 11s - loss: 0.0577 - acc: 0.9835 - val_loss: 0.6641 - val_acc: 0.7918\n"
     ]
    },
    {
     "data": {
      "text/plain": [
       "<keras.callbacks.History at 0x146be7cdfd0>"
      ]
     },
     "execution_count": 109,
     "metadata": {},
     "output_type": "execute_result"
    }
   ],
   "source": [
    "model.compile(loss=\"binary_crossentropy\",\n",
    "              optimizer = \"adam\",\n",
    "              metrics=[\"accuracy\"])\n",
    "model.fit(x_train, \n",
    "          y_train, \n",
    "          batch_size=300,\n",
    "          epochs=5, \n",
    "          verbose=2,\n",
    "          validation_split=0.2)"
   ]
  },
  {
   "cell_type": "code",
   "execution_count": 110,
   "metadata": {},
   "outputs": [
    {
     "name": "stdout",
     "output_type": "stream",
     "text": [
      "25000/25000 [==============================] - 4s 143us/step\n"
     ]
    },
    {
     "data": {
      "text/plain": [
       "0.85824"
      ]
     },
     "execution_count": 110,
     "metadata": {},
     "output_type": "execute_result"
    }
   ],
   "source": [
    "scores = model.evaluate(x_test, y_test, verbose=1)\n",
    "scores[1]"
   ]
  },
  {
   "cell_type": "code",
   "execution_count": 111,
   "metadata": {},
   "outputs": [
    {
     "data": {
      "text/plain": [
       "array([[1],\n",
       "       [1],\n",
       "       [1],\n",
       "       [1],\n",
       "       [1],\n",
       "       [1],\n",
       "       [1],\n",
       "       [1],\n",
       "       [1],\n",
       "       [1]])"
      ]
     },
     "execution_count": 111,
     "metadata": {},
     "output_type": "execute_result"
    }
   ],
   "source": [
    "prediction = model.predict_classes(x_test)\n",
    "prediction[:10]"
   ]
  },
  {
   "cell_type": "code",
   "execution_count": 112,
   "metadata": {},
   "outputs": [
    {
     "data": {
      "text/plain": [
       "array([1, 1, 1, 1, 1, 1, 1, 1, 1, 1])"
      ]
     },
     "execution_count": 112,
     "metadata": {},
     "output_type": "execute_result"
    }
   ],
   "source": [
    "prediction_classes=prediction.reshape(-1)\n",
    "prediction_classes[:10]"
   ]
  },
  {
   "cell_type": "code",
   "execution_count": 113,
   "metadata": {
    "collapsed": true
   },
   "outputs": [],
   "source": [
    "SentimentDict={1:\"P\",0:\"N\"}\n",
    "def display_test_Sentiment(i):\n",
    "    print(test_text[i])\n",
    "    print(\"label真實值\",SentimentDict[y_test[i]])\n",
    "    print(\"預測值\",SentimentDict[prediction_classes[i]])"
   ]
  },
  {
   "cell_type": "code",
   "execution_count": 114,
   "metadata": {
    "scrolled": true
   },
   "outputs": [
    {
     "name": "stdout",
     "output_type": "stream",
     "text": [
      "Actor turned director Bill Paxton follows up his promising debut, the Gothic-horror \"Frailty\", with this family friendly sports drama about the 1913 U.S. Open where a young American caddy rises from his humble background to play against his Bristish idol in what was dubbed as \"The Greatest Game Ever Played.\" I'm no fan of golf, and these scrappy underdog sports flicks are a dime a dozen (most recently done to grand effect with \"Miracle\" and \"Cinderella Man\"), but some how this film was enthralling all the same.The film starts with some creative opening credits (imagine a Disneyfied version of the animated opening credits of HBO's \"Carnivale\" and \"Rome\"), but lumbers along slowly for its first by-the-numbers hour. Once the action moves to the U.S. Open things pick up very well. Paxton does a nice job and shows a knack for effective directorial flourishes (I loved the rain-soaked montage of the action on day two of the open) that propel the plot further or add some unexpected psychological depth to the proceedings. There's some compelling character development when the British Harry Vardon is haunted by images of the aristocrats in black suits and top hats who destroyed his family cottage as a child to make way for a golf course. He also does a good job of visually depicting what goes on in the players' heads under pressure. Golf, a painfully boring sport, is brought vividly alive here. Credit should also be given the set designers and costume department for creating an engaging period-piece atmosphere of London and Boston at the beginning of the twentieth century.You know how this is going to end not only because it's based on a true story but also because films in this genre follow the same template over and over, but Paxton puts on a better than average show and perhaps indicates more talent behind the camera than he ever had in front of it. Despite the formulaic nature, this is a nice and easy film to root for that deserves to find an audience.\n",
      "label真實值 P\n",
      "預測值 P\n"
     ]
    }
   ],
   "source": [
    "display_test_Sentiment(1)"
   ]
  },
  {
   "cell_type": "code",
   "execution_count": 115,
   "metadata": {},
   "outputs": [
    {
     "name": "stdout",
     "output_type": "stream",
     "text": [
      "This is an example of why the majority of action films are the same. Generic and boring, there's really nothing worth watching here. A complete waste of the then barely-tapped talents of Ice-T and Ice Cube, who've each proven many times over that they are capable of acting, and acting well. Don't bother with this one, go see New Jack City, Ricochet or watch New York Undercover for Ice-T, or Boyz n the Hood, Higher Learning or Friday for Ice Cube and see the real deal. Ice-T's horribly cliched dialogue alone makes this film grate at the teeth, and I'm still wondering what the heck Bill Paxton was doing in this film? And why the heck does he always play the exact same character? From Aliens onward, every film I've seen with Bill Paxton has him playing the exact same irritating character, and at least in Aliens his character died, which made it somewhat gratifying...Overall, this is second-rate action trash. There are countless better films to see, and if you really want to see this one, watch Judgement Night, which is practically a carbon copy but has better acting and a better script. The only thing that made this at all worth watching was a decent hand on the camera - the cinematography was almost refreshing, which comes close to making up for the horrible film itself - but not quite. 4/10.\n",
      "label真實值 N\n",
      "預測值 N\n"
     ]
    }
   ],
   "source": [
    "display_test_Sentiment(12501)"
   ]
  },
  {
   "cell_type": "code",
   "execution_count": 116,
   "metadata": {
    "collapsed": true
   },
   "outputs": [],
   "source": [
    "input_text=\"\"\"The original movie was promising and a follow-up was a must. Guess what: Beyond Skyline is NOT one. This movie somehow the worst TV/movie commercial for Indonesia, whose ancient temples seem to be the cure for aliens (hello?!). Reminds me of the cheap movies that faded actors like Steven Seagal make in 3rd world countries like Thailand, Hungary or Russia.\"\"\""
   ]
  },
  {
   "cell_type": "code",
   "execution_count": 117,
   "metadata": {
    "collapsed": true
   },
   "outputs": [],
   "source": [
    "input_seq = token.texts_to_sequences([input_text])"
   ]
  },
  {
   "cell_type": "code",
   "execution_count": 118,
   "metadata": {},
   "outputs": [
    {
     "name": "stdout",
     "output_type": "stream",
     "text": [
      "[1, 200, 16, 12, 2430, 2, 3, 789, 52, 12, 3, 211, 477, 47, 720, 6, 20, 27, 10, 16, 816, 1, 245, 244, 16, 2149, 14, 619, 2205, 302, 5, 25, 1, 14, 2526, 1784, 68, 4, 1, 702, 98, 11, 152, 36, 2151, 3280, 93, 7, 178, 3119, 36, 38]\n"
     ]
    }
   ],
   "source": [
    "print(input_seq[0])"
   ]
  },
  {
   "cell_type": "code",
   "execution_count": 119,
   "metadata": {},
   "outputs": [
    {
     "data": {
      "text/plain": [
       "52"
      ]
     },
     "execution_count": 119,
     "metadata": {},
     "output_type": "execute_result"
    }
   ],
   "source": [
    "len(input_seq[0])"
   ]
  },
  {
   "cell_type": "code",
   "execution_count": 120,
   "metadata": {
    "collapsed": true
   },
   "outputs": [],
   "source": [
    "pad_input_seq = sequence.pad_sequences(input_seq, maxlen=400)"
   ]
  },
  {
   "cell_type": "code",
   "execution_count": 121,
   "metadata": {},
   "outputs": [
    {
     "data": {
      "text/plain": [
       "400"
      ]
     },
     "execution_count": 121,
     "metadata": {},
     "output_type": "execute_result"
    }
   ],
   "source": [
    "len(pad_input_seq[0])"
   ]
  },
  {
   "cell_type": "code",
   "execution_count": 122,
   "metadata": {},
   "outputs": [],
   "source": [
    "predict = model.predict_classes(pad_input_seq)"
   ]
  },
  {
   "cell_type": "code",
   "execution_count": 123,
   "metadata": {},
   "outputs": [
    {
     "data": {
      "text/plain": [
       "0"
      ]
     },
     "execution_count": 123,
     "metadata": {},
     "output_type": "execute_result"
    }
   ],
   "source": [
    "predict[0][0]"
   ]
  },
  {
   "cell_type": "code",
   "execution_count": 124,
   "metadata": {},
   "outputs": [
    {
     "data": {
      "text/plain": [
       "'N'"
      ]
     },
     "execution_count": 124,
     "metadata": {},
     "output_type": "execute_result"
    }
   ],
   "source": [
    "SentimentDict[predict[0][0]]"
   ]
  },
  {
   "cell_type": "markdown",
   "metadata": {},
   "source": [
    "# RNN"
   ]
  },
  {
   "cell_type": "code",
   "execution_count": 128,
   "metadata": {},
   "outputs": [],
   "source": [
    "from keras.models import Sequential\n",
    "from keras.layers.core import Dense, Dropout, Activation\n",
    "from keras.layers.embeddings import Embedding\n",
    "from keras.layers.recurrent import SimpleRNN"
   ]
  },
  {
   "cell_type": "code",
   "execution_count": 129,
   "metadata": {},
   "outputs": [
    {
     "name": "stdout",
     "output_type": "stream",
     "text": [
      "_________________________________________________________________\n",
      "Layer (type)                 Output Shape              Param #   \n",
      "=================================================================\n",
      "embedding_8 (Embedding)      (None, 400, 32)           128000    \n",
      "_________________________________________________________________\n",
      "dropout_15 (Dropout)         (None, 400, 32)           0         \n",
      "_________________________________________________________________\n",
      "simple_rnn_4 (SimpleRNN)     (None, 16)                784       \n",
      "_________________________________________________________________\n",
      "dense_15 (Dense)             (None, 256)               4352      \n",
      "_________________________________________________________________\n",
      "dropout_16 (Dropout)         (None, 256)               0         \n",
      "_________________________________________________________________\n",
      "dense_16 (Dense)             (None, 1)                 257       \n",
      "=================================================================\n",
      "Total params: 133,393\n",
      "Trainable params: 133,393\n",
      "Non-trainable params: 0\n",
      "_________________________________________________________________\n",
      "None\n"
     ]
    }
   ],
   "source": [
    "model = Sequential()\n",
    "model.add(Embedding(output_dim=32,\n",
    "                    input_dim =4000,\n",
    "                    input_length = 400))\n",
    "model.add(Dropout(0.25))\n",
    "model.add(SimpleRNN(units = 16))\n",
    "model.add(Dense(units= 256, activation= 'relu'))\n",
    "model.add(Dropout(0.25))\n",
    "model.add(Dense(units=1, activation='sigmoid'))\n",
    "print(model.summary())"
   ]
  },
  {
   "cell_type": "code",
   "execution_count": 130,
   "metadata": {},
   "outputs": [
    {
     "name": "stdout",
     "output_type": "stream",
     "text": [
      "Train on 20000 samples, validate on 5000 samples\n",
      "Epoch 1/5\n",
      " - 11s - loss: 0.5894 - acc: 0.6818 - val_loss: 0.8037 - val_acc: 0.6460\n",
      "Epoch 2/5\n",
      " - 10s - loss: 0.3484 - acc: 0.8520 - val_loss: 0.6218 - val_acc: 0.7396\n",
      "Epoch 3/5\n",
      " - 10s - loss: 0.2657 - acc: 0.8966 - val_loss: 0.4754 - val_acc: 0.8222\n",
      "Epoch 4/5\n",
      " - 10s - loss: 0.2142 - acc: 0.9175 - val_loss: 0.5494 - val_acc: 0.7812\n",
      "Epoch 5/5\n",
      " - 10s - loss: 0.1819 - acc: 0.9318 - val_loss: 0.5057 - val_acc: 0.8088\n",
      "25000/25000 [==============================] - 10s 382us/step\n"
     ]
    },
    {
     "data": {
      "text/plain": [
       "0.85407999999999995"
      ]
     },
     "execution_count": 130,
     "metadata": {},
     "output_type": "execute_result"
    }
   ],
   "source": [
    "model.compile(loss=\"binary_crossentropy\",\n",
    "              optimizer = \"adam\",\n",
    "              metrics=[\"accuracy\"])\n",
    "model.fit(x_train, \n",
    "          y_train, \n",
    "          batch_size=300,\n",
    "          epochs=5, \n",
    "          verbose=2,\n",
    "          validation_split=0.2)\n",
    "scores = model.evaluate(x_test, y_test, verbose=1)\n",
    "scores[1]"
   ]
  },
  {
   "cell_type": "markdown",
   "metadata": {},
   "source": [
    "# LSTM"
   ]
  },
  {
   "cell_type": "code",
   "execution_count": 131,
   "metadata": {
    "collapsed": true
   },
   "outputs": [],
   "source": [
    "from keras.models import Sequential\n",
    "from keras.layers.core import Dense, Dropout, Activation, Flatten\n",
    "from keras.layers.embeddings import Embedding\n",
    "from keras.layers.recurrent import LSTM"
   ]
  },
  {
   "cell_type": "code",
   "execution_count": 132,
   "metadata": {},
   "outputs": [
    {
     "name": "stdout",
     "output_type": "stream",
     "text": [
      "_________________________________________________________________\n",
      "Layer (type)                 Output Shape              Param #   \n",
      "=================================================================\n",
      "embedding_9 (Embedding)      (None, 400, 32)           128000    \n",
      "_________________________________________________________________\n",
      "dropout_17 (Dropout)         (None, 400, 32)           0         \n",
      "_________________________________________________________________\n",
      "lstm_1 (LSTM)                (None, 32)                8320      \n",
      "_________________________________________________________________\n",
      "dense_17 (Dense)             (None, 256)               8448      \n",
      "_________________________________________________________________\n",
      "dropout_18 (Dropout)         (None, 256)               0         \n",
      "_________________________________________________________________\n",
      "dense_18 (Dense)             (None, 1)                 257       \n",
      "=================================================================\n",
      "Total params: 145,025\n",
      "Trainable params: 145,025\n",
      "Non-trainable params: 0\n",
      "_________________________________________________________________\n"
     ]
    }
   ],
   "source": [
    "model = Sequential()\n",
    "model.add(Embedding(output_dim=32,\n",
    "                    input_dim =4000,\n",
    "                    input_length=400))\n",
    "model.add(Dropout(0.20))\n",
    "model.add(LSTM(32))\n",
    "model.add(Dense(units=256,\n",
    "                activation='relu'))\n",
    "model.add(Dropout(0.20))\n",
    "model.add(Dense(units=1,\n",
    "                activation='sigmoid'))\n",
    "model.summary()\n"
   ]
  },
  {
   "cell_type": "code",
   "execution_count": 133,
   "metadata": {},
   "outputs": [
    {
     "name": "stdout",
     "output_type": "stream",
     "text": [
      "Train on 20000 samples, validate on 5000 samples\n",
      "Epoch 1/5\n",
      " - 29s - loss: 0.6174 - acc: 0.6567 - val_loss: 0.8026 - val_acc: 0.5754\n",
      "Epoch 2/5\n",
      " - 29s - loss: 0.3616 - acc: 0.8442 - val_loss: 0.2938 - val_acc: 0.8696\n",
      "Epoch 3/5\n",
      " - 29s - loss: 0.2512 - acc: 0.8986 - val_loss: 0.5194 - val_acc: 0.7784\n",
      "Epoch 4/5\n",
      " - 30s - loss: 0.2173 - acc: 0.9151 - val_loss: 0.4098 - val_acc: 0.8174\n",
      "Epoch 5/5\n",
      " - 31s - loss: 0.1999 - acc: 0.9245 - val_loss: 0.4284 - val_acc: 0.8220\n",
      "25000/25000 [==============================] - 20s 794us/step\n"
     ]
    },
    {
     "data": {
      "text/plain": [
       "0.86587999999999998"
      ]
     },
     "execution_count": 133,
     "metadata": {},
     "output_type": "execute_result"
    }
   ],
   "source": [
    "model.compile(loss=\"binary_crossentropy\",\n",
    "              optimizer = \"adam\",\n",
    "              metrics=[\"accuracy\"])\n",
    "model.fit(x_train, \n",
    "          y_train, \n",
    "          batch_size=300,\n",
    "          epochs=5, \n",
    "          verbose=2,\n",
    "          validation_split=0.2)\n",
    "scores = model.evaluate(x_test, y_test, verbose=1)\n",
    "scores[1]"
   ]
  },
  {
   "cell_type": "code",
   "execution_count": null,
   "metadata": {
    "collapsed": true
   },
   "outputs": [],
   "source": []
  }
 ],
 "metadata": {
  "kernelspec": {
   "display_name": "Python 3",
   "language": "python",
   "name": "python3"
  },
  "language_info": {
   "codemirror_mode": {
    "name": "ipython",
    "version": 3
   },
   "file_extension": ".py",
   "mimetype": "text/x-python",
   "name": "python",
   "nbconvert_exporter": "python",
   "pygments_lexer": "ipython3",
   "version": "3.6.1"
  }
 },
 "nbformat": 4,
 "nbformat_minor": 2
}
