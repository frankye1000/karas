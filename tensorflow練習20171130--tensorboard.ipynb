{
 "cells": [
  {
   "cell_type": "markdown",
   "metadata": {},
   "source": [
    "### 改寫架構\n",
    "\n",
    "定義一個添加層的函數：add_layer()\n",
    "準備資料（Inputs）\n",
    "建立 Feeds（使用 tf.placeholder() 方法）來傳入資料\n",
    "添加隱藏層與輸出層\n",
    "定義 loss 與要使用的 Optimizer（使用梯度遞減）\n",
    "初始化 Graph 並開始運算"
   ]
  },
  {
   "cell_type": "code",
   "execution_count": 6,
   "metadata": {},
   "outputs": [
    {
     "name": "stdout",
     "output_type": "stream",
     "text": [
      "6.11596\n",
      "0.671108\n",
      "0.266733\n",
      "0.108584\n",
      "0.0446214\n",
      "0.0184039\n",
      "0.00760114\n",
      "0.00314096\n",
      "0.0012981\n",
      "0.000536506\n",
      "0.000221735\n"
     ]
    }
   ],
   "source": [
    "import tensorflow as tf\n",
    "import numpy as np\n",
    "\n",
    "def add_layer(inputs, input_tensors, output_tensors, activation_function = None):\n",
    "    W = tf.Variable(tf.random_normal([input_tensors, output_tensors]))\n",
    "    b = tf.Variable(tf.zeros([1, output_tensors]))\n",
    "    formula = tf.add(tf.matmul(inputs, W), b)\n",
    "    if activation_function is None:\n",
    "        outputs = formula\n",
    "    else:\n",
    "        outputs = activation_function(formula)\n",
    "    return outputs\n",
    "\n",
    "#準備資料\n",
    "x_data = np.random.rand(100)\n",
    "x_data = x_data.reshape(len(x_data), 1)\n",
    "y_data = x_data * 0.1 + 0.3\n",
    "\n",
    "#建立 Feeds\n",
    "x_feeds = tf.placeholder(tf.float32, shape = [None, 1])\n",
    "y_feeds = tf.placeholder(tf.float32, shape = [None, 1])\n",
    "\n",
    "#添加一個隱藏層\n",
    "hidden_layer = add_layer(x_feeds, input_tensors = 1, output_tensors = 10, activation_function = None)\n",
    "\n",
    "#添加一層輸出層\n",
    "output_layer = add_layer(hidden_layer, input_tensors = 10, output_tensors = 1, activation_function = None)\n",
    "\n",
    "\n",
    "#定義 'loss' 與要使用的Optimizer\n",
    "loss = tf.reduce_mean(tf.square(y_feeds - output_layer))\n",
    "optimizer = tf.train.GradientDescentOptimizer(learning_rate = 0.01)\n",
    "train = optimizer.minimize(loss)\n",
    "\n",
    "#初始化 Graph 並開始運算\n",
    "init = tf.global_variables_initializer()\n",
    "sess = tf.Session()\n",
    "sess.run(init)\n",
    "\n",
    "for step in range(201):\n",
    "    sess.run(train, feed_dict = {x_feeds: x_data, y_feeds : y_data})\n",
    "    if step % 20 == 0:\n",
    "        print(sess.run(loss, feed_dict = {x_feeds: x_data, y_feeds: y_data}))\n",
    "\n",
    "sess.close()    \n",
    "    "
   ]
  },
  {
   "cell_type": "markdown",
   "metadata": {
    "collapsed": true
   },
   "source": [
    "我們可以看到隨著每次運算，loss 的數值都在降低，表示類似模型不斷在逼近真實模型。"
   ]
  },
  {
   "cell_type": "markdown",
   "metadata": {
    "collapsed": true
   },
   "source": [
    "接著我們要在模組化的程式中使用 with tf.name_scope(): 為每個運算元命名，然後在神經網絡運算初始之後，利用 tf.summary.FileWriter() 將視覺化檔案輸出。"
   ]
  },
  {
   "cell_type": "code",
   "execution_count": 10,
   "metadata": {
    "collapsed": true
   },
   "outputs": [],
   "source": [
    "import tensorflow as tf\n",
    "import numpy as np\n",
    "\n",
    "# 定義一個添加層的函數\n",
    "def add_layer(inputs, input_tensors, output_tensors, activation_function = None):\n",
    "    with tf.name_scope('Layer'):\n",
    "        with tf.name_scope('Weights'):\n",
    "            W = tf.Variable(tf.random_normal([input_tensors, output_tensors]))\n",
    "        with tf.name_scope('Biases'):\n",
    "            b = tf.Variable(tf.zeros([1, output_tensors]))\n",
    "        with tf.name_scope('Formula'):\n",
    "            formula = tf.add(tf.matmul(inputs, W), b)\n",
    "        if activation_function is None:\n",
    "            outputs = formula\n",
    "        else:\n",
    "            outputs = activation_function(formula)\n",
    "        return outputs\n",
    "\n",
    "# 準備資料\n",
    "x_data = np.random.rand(100)\n",
    "x_data = x_data.reshape(len(x_data), 1)\n",
    "y_data = x_data * 0.1 + 0.3\n",
    "\n",
    "# 建立 Feeds\n",
    "with tf.name_scope('Inputs'):\n",
    "    x_feeds = tf.placeholder(tf.float32, shape = [None, 1])\n",
    "    y_feeds = tf.placeholder(tf.float32, shape = [None, 1])\n",
    "\n",
    "# 添加 1 個隱藏層\n",
    "hidden_layer = add_layer(x_feeds, input_tensors = 1, output_tensors = 10, activation_function = None)\n",
    "\n",
    "# 添加 1 個輸出層\n",
    "output_layer = add_layer(hidden_layer, input_tensors = 10, output_tensors = 1, activation_function = None)\n",
    "\n",
    "# 定義 `loss` 與要使用的 Optimizer\n",
    "with tf.name_scope('Loss'):\n",
    "    loss = tf.reduce_mean(tf.square(y_feeds - output_layer))\n",
    "with tf.name_scope('Train'):\n",
    "    optimizer = tf.train.GradientDescentOptimizer(learning_rate = 0.01)\n",
    "    train = optimizer.minimize(loss)\n",
    "\n",
    "# 初始化 Graph\n",
    "init = tf.global_variables_initializer()\n",
    "sess = tf.Session()\n",
    "\n",
    "# 將視覺化輸出\n",
    "writer = tf.summary.FileWriter(\"TensorBoard/\", graph = sess.graph)\n",
    "\n",
    "# 開始運算\n",
    "sess.run(init)\n",
    "for step in range(201):\n",
    "    sess.run(train, feed_dict = {x_feeds: x_data, y_feeds: y_data})\n",
    "    #if step % 20 == 0:\n",
    "        #print(sess.run(loss, feed_dict = {x_feeds: x_data, y_feeds: y_data}))\n",
    "\n",
    "sess.close()\n",
    "    "
   ]
  },
  {
   "cell_type": "code",
   "execution_count": 11,
   "metadata": {
    "collapsed": true
   },
   "outputs": [],
   "source": [
    "import tensorflow as tf\n",
    "import numpy as np\n",
    "\n",
    "# 定義一個添加層的函數\n",
    "def add_layer(inputs, input_tensors, output_tensors, activation_function = None):\n",
    "    with tf.name_scope('Layer'):\n",
    "        with tf.name_scope('Weights'):\n",
    "            W = tf.Variable(tf.random_normal([input_tensors, output_tensors]), name = 'W')\n",
    "        with tf.name_scope('Biases'):\n",
    "            b = tf.Variable(tf.zeros([1, output_tensors]), name = 'b')\n",
    "        with tf.name_scope('Formula'):\n",
    "            formula = tf.add(tf.matmul(inputs, W), b)\n",
    "        if activation_function is None:\n",
    "            outputs = formula\n",
    "        else:\n",
    "            outputs = activation_function(formula)\n",
    "        return outputs\n",
    "\n",
    "# 準備資料\n",
    "x_data = np.random.rand(100)\n",
    "x_data = x_data.reshape(len(x_data), 1)\n",
    "y_data = x_data * 0.1 + 0.3\n",
    "\n",
    "# 建立 Feeds\n",
    "with tf.name_scope('Inputs'):\n",
    "    x_feeds = tf.placeholder(tf.float32, shape = [None, 1], name = 'x_inputs')\n",
    "    y_feeds = tf.placeholder(tf.float32, shape = [None, 1], name = 'y_inputs')\n",
    "\n",
    "# 添加 1 個隱藏層\n",
    "hidden_layer = add_layer(x_feeds, input_tensors = 1, output_tensors = 10, activation_function = None)\n",
    "\n",
    "# 添加 1 個輸出層\n",
    "output_layer = add_layer(hidden_layer, input_tensors = 10, output_tensors = 1, activation_function = None)\n",
    "\n",
    "# 定義 `loss` 與要使用的 Optimizer\n",
    "with tf.name_scope('Loss'):\n",
    "    loss = tf.reduce_mean(tf.square(y_feeds - output_layer))\n",
    "with tf.name_scope('Train'):\n",
    "    optimizer = tf.train.GradientDescentOptimizer(learning_rate = 0.01)\n",
    "    train = optimizer.minimize(loss)\n",
    "\n",
    "# 初始化 Graph\n",
    "init = tf.global_variables_initializer()\n",
    "sess = tf.Session()\n",
    "\n",
    "# 將視覺化輸出\n",
    "writer = tf.summary.FileWriter(\"TensorBoard/\", graph = sess.graph)\n",
    "\n",
    "# 開始運算\n",
    "sess.run(init)\n",
    "for step in range(201):\n",
    "    sess.run(train, feed_dict = {x_feeds: x_data, y_feeds: y_data})\n",
    "    #if step % 20 == 0:\n",
    "        #print(sess.run(loss, feed_dict = {x_feeds: x_data, y_feeds: y_data}))\n",
    "\n",
    "sess.close()"
   ]
  },
  {
   "cell_type": "code",
   "execution_count": null,
   "metadata": {
    "collapsed": true
   },
   "outputs": [],
   "source": []
  }
 ],
 "metadata": {
  "kernelspec": {
   "display_name": "Python 3",
   "language": "python",
   "name": "python3"
  },
  "language_info": {
   "codemirror_mode": {
    "name": "ipython",
    "version": 3
   },
   "file_extension": ".py",
   "mimetype": "text/x-python",
   "name": "python",
   "nbconvert_exporter": "python",
   "pygments_lexer": "ipython3",
   "version": "3.6.1"
  }
 },
 "nbformat": 4,
 "nbformat_minor": 2
}
