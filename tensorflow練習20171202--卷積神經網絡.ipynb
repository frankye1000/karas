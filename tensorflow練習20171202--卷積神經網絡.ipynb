{
 "cells": [
  {
   "cell_type": "markdown",
   "metadata": {},
   "source": [
    "## 卷積神經網絡\n",
    "\n",
    "卷積神經網絡要解決的問題源自於使用神經網絡辨識高解析度的彩色圖片，馬上會遭遇運算效能不足的難題，卷積神經網絡使用兩個方法來解決這個難題：\n",
    "\n",
    "### Convolution\n",
    "\n",
    "有些特徵不需要看整張圖片才能捕捉起來，為了解決運算效能不足而採取將圖片解析度降維的方法，使用 Sub-sampling 或 Down-sampling 稱呼也許可以讓我們更容易瞭解她的意義。\n",
    "\n",
    "### Max-pooling\n",
    "\n",
    "這是為了確保經過 Convolution 後圖片中的特徵可以被確實保留下來而採取的方法。\n",
    "\n",
    "### 不同的 Activation Function\n",
    "\n",
    "先前在添加神經網絡層的時候，如果沒有指定 Activation function 就是使用預設的線性函數，但是在 CNN 中會使用 ReLU（Rectified Linear Unit）作為 Activation function，模擬出非線性函數，確保神經元輸出的值在 0 到 1 之間。\n",
    "\n",
    "### 新增 Dropout 函數\n",
    "\n",
    "用來避免過度配適（Overfitting）。\n",
    "\n",
    "\n",
    "### 更換 Optimizer\n",
    "\n",
    "將我們先前一直使用的梯度遞減（Gradient descent）更換為 ADAM，是一個更進階且更成熟的梯度遞減演算法。"
   ]
  },
  {
   "cell_type": "markdown",
   "metadata": {},
   "source": [
    "## TensorFlow 實作\n",
    "\n",
    "### 卷積神經網絡架構\n",
    "\n",
    "我們來拆解一下接著要建立的卷積神經網絡架構：\n",
    "\n",
    "輸入圖片（解析度 28x28 的手寫數字圖片）\n",
    "第一層是 Convolution 層（32 個神經元），會利用解析度 5x5 的 filter 取出 32 個特徵，然後將圖片降維成解析度 14x14\n",
    "第二層是 Convolution 層（64 個神經元），會利用解析度 5x5 的 filter 取出 64 個特徵，然後將圖片降維成解析度 7x7\n",
    "第三層是 Densely Connected 層（1024 個神經元），會將圖片的 1024 個特徵攤平\n",
    "輸出結果之前使用 Dropout 函數避免過度配適\n",
    "第四層是輸出層（10 個神經元），使用跟之前相同的 Softmax 函數輸出結果"
   ]
  },
  {
   "cell_type": "code",
   "execution_count": null,
   "metadata": {
    "collapsed": true
   },
   "outputs": [],
   "source": []
  }
 ],
 "metadata": {
  "kernelspec": {
   "display_name": "Python 3",
   "language": "python",
   "name": "python3"
  },
  "language_info": {
   "codemirror_mode": {
    "name": "ipython",
    "version": 3
   },
   "file_extension": ".py",
   "mimetype": "text/x-python",
   "name": "python",
   "nbconvert_exporter": "python",
   "pygments_lexer": "ipython3",
   "version": "3.6.1"
  }
 },
 "nbformat": 4,
 "nbformat_minor": 2
}
